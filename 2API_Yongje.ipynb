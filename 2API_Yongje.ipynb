{
  "nbformat": 4,
  "nbformat_minor": 0,
  "metadata": {
    "colab": {
      "provenance": [],
      "authorship_tag": "ABX9TyNzVEQ+4gJukAz4t4E5REAi",
      "include_colab_link": true
    },
    "kernelspec": {
      "name": "python3",
      "display_name": "Python 3"
    },
    "language_info": {
      "name": "python"
    }
  },
  "cells": [
    {
      "cell_type": "markdown",
      "metadata": {
        "id": "view-in-github",
        "colab_type": "text"
      },
      "source": [
        "<a href=\"https://colab.research.google.com/github/yongjejeon/2API-data-feature/blob/main/2API_Yongje.ipynb\" target=\"_parent\"><img src=\"https://colab.research.google.com/assets/colab-badge.svg\" alt=\"Open In Colab\"/></a>"
      ]
    },
    {
      "cell_type": "markdown",
      "source": [
        "\n",
        "```\n",
        "# This is formatted as code\n",
        "```\n",
        "\n"
      ],
      "metadata": {
        "id": "IQBrnNkW0Na2"
      }
    },
    {
      "cell_type": "markdown",
      "source": [
        "we'll be building a data feature that helps people view"
      ],
      "metadata": {
        "id": "zcsW-i6J0Rgj"
      }
    },
    {
      "cell_type": "markdown",
      "source": [
        "We will be building a simple data feature that generates a graph that shows the countries of users\n",
        "\n",
        "We will be using two APIs:\n",
        "1. An API that gets the website visitor's IP address (ipStack).\n",
        "2. An API that generates a graph based on input (Quickchart).\n",
        "\n",
        "Steps:\n",
        "1. Sign up for both websites\n",
        "2. Add our API keys to collab secrets\n",
        "3. test the APIs to make sure we understand how we use them\n",
        "4. write a function to get the user's country. (A function that returns the country)\n",
        "5. Write a function that takes the country and generate a bar graph.\n",
        "\n",
        "\n"
      ],
      "metadata": {
        "id": "rAwc8ORrIOc7"
      }
    },
    {
      "cell_type": "code",
      "source": [
        "from google.colab import drive\n",
        "drive.mount('/content/drive')"
      ],
      "metadata": {
        "id": "KGO_q_aCRIfP"
      },
      "execution_count": null,
      "outputs": []
    },
    {
      "cell_type": "markdown",
      "source": [],
      "metadata": {
        "id": "R5ybZ4LLJELO"
      }
    },
    {
      "cell_type": "code",
      "execution_count": null,
      "metadata": {
        "id": "Ar3g0D-fzv7F",
        "colab": {
          "base_uri": "https://localhost:8080/"
        },
        "outputId": "198339ed-7f81-4f44-ec38-5818c2a60163"
      },
      "outputs": [
        {
          "output_type": "stream",
          "name": "stdout",
          "text": [
            "40f143f599038b7f625d9085db152e7e\n",
            "IP Stack key is set\n"
          ]
        }
      ],
      "source": [
        "#set up API keys\n",
        "from google.colab import userdata\n",
        "\n",
        "print(userdata.get('IPAddressKey'))\n",
        "\n",
        "IP_STACK_KEY = userdata.get('IPAddressKey')\n",
        "\n",
        "if IP_STACK_KEY:\n",
        "  print(\"IP Stack key is set\")\n",
        "else:\n",
        "  print(\"IP Stack key is not set\")"
      ]
    },
    {
      "cell_type": "markdown",
      "source": [
        "#Get User's Country data from IP"
      ],
      "metadata": {
        "id": "7ZHFdhI9UoDG"
      }
    },
    {
      "cell_type": "code",
      "source": [
        "import requests\n",
        "\n",
        "# function for getting data from IP\n",
        "def get_country(ip_address):\n",
        "    url = f\"http://api.ipstack.com/{ip_address}?access_key={IP_STACK_KEY}\"\n",
        "    response = requests.get(url)\n",
        "    data = response.json()\n",
        "\n",
        "    # Checking API\n",
        "    if response.status_code == 200 and 'country_name' in data:\n",
        "        return data['country_name']\n",
        "    else:\n",
        "        print(\"Error:\", data)\n",
        "        return None"
      ],
      "metadata": {
        "colab": {
          "base_uri": "https://localhost:8080/"
        },
        "id": "vLqQq6aOcDYv",
        "outputId": "6647e2b8-8895-44a2-ce9b-619e45949f1f"
      },
      "execution_count": null,
      "outputs": [
        {
          "output_type": "stream",
          "name": "stdout",
          "text": [
            "User's country: United States\n"
          ]
        }
      ]
    },
    {
      "cell_type": "code",
      "source": [
        "# Function for creating pie chart\n",
        "def generate_country_chart(country_data):\n",
        "    url = \"https://quickchart.io/chart\"\n",
        "    chart_data = {\n",
        "        \"type\": \"pie\",\n",
        "        \"data\": {\n",
        "            \"labels\": list(country_data.keys()),  # set labels\n",
        "            \"datasets\": [{\n",
        "                \"label\": \"Visitors\",\n",
        "                \"data\": list(country_data.values())  # num of visitors from each country\n",
        "            }]\n",
        "        }\n",
        "    }\n",
        "\n",
        "    response = requests.get(url, params={\"c\": str(chart_data)})\n",
        "\n",
        "    #Saving chart\n",
        "    if response.status_code == 200:\n",
        "        with open('country_chart.png', 'wb') as f:\n",
        "            f.write(response.content)\n",
        "        print(\"Chart saved as country_chart.png\")\n",
        "    else:\n",
        "        print(\"Failed to generate the chart\")\n"
      ],
      "metadata": {
        "colab": {
          "base_uri": "https://localhost:8080/"
        },
        "id": "63PDy9oXco3Y",
        "outputId": "5af535dd-a5fb-409d-973f-76aca37eb971"
      },
      "execution_count": null,
      "outputs": [
        {
          "output_type": "stream",
          "name": "stdout",
          "text": [
            "Chart saved as country_chart.png\n"
          ]
        }
      ]
    },
    {
      "cell_type": "code",
      "source": [
        "#get Ip address and change it into country chart\n",
        "def add_to_country_visits(ip_address, country_visits):\n",
        "    country = get_country(ip_address)\n",
        "    if country:\n",
        "        if country in country_visits:\n",
        "            country_visits[country] += 1\n",
        "        else:\n",
        "            country_visits[country] = 1\n",
        "\n",
        "# Ask for input\n",
        "ip_input = input(\"Enter multiple IP addresses separated by commas: \")\n",
        "\n",
        "# split the input by comma\n",
        "ip_addresses = [ip.strip() for ip in ip_input.split(',')]\n",
        "\n",
        "# keep track of visits\n",
        "country_visits = {}\n",
        "\n",
        "# get ips and update dictionary\n",
        "for ip in ip_addresses:\n",
        "    add_to_country_visits(ip, country_visits)\n",
        "\n",
        "# make pie chart\n",
        "generate_country_chart(country_visits)\n",
        "\n",
        "#example input: 134.201.250.155, 72.229.28.185, 110.174.165.78, 103.177.115.255,13.33.152.0, 8.8.8.8, 101.235.255.255\n",
        "#will get 3 us,1 india, 1south korea, 1 demark, 1 australia"
      ],
      "metadata": {
        "colab": {
          "base_uri": "https://localhost:8080/"
        },
        "id": "lu8j-FLecph3",
        "outputId": "c9a4f8bc-6f22-40f6-956d-8f289c6acfa1"
      },
      "execution_count": 19,
      "outputs": [
        {
          "output_type": "stream",
          "name": "stdout",
          "text": [
            "Enter multiple IP addresses separated by commas: 134.201.250.155, 72.229.28.185, 110.174.165.78, 103.177.115.255,13.33.152.0, 8.8.8.8, 101.235.255.255\n",
            "Chart saved as country_chart.png\n"
          ]
        }
      ]
    }
  ]
}